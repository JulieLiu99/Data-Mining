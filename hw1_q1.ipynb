{
  "cells": [
    {
      "cell_type": "markdown",
      "metadata": {
        "id": "view-in-github",
        "colab_type": "text"
      },
      "source": [
        "<a href=\"https://colab.research.google.com/github/JulieLiu99/Data-Mining/blob/main/hw1_q1.ipynb\" target=\"_parent\"><img src=\"https://colab.research.google.com/assets/colab-badge.svg\" alt=\"Open In Colab\"/></a>"
      ]
    },
    {
      "cell_type": "markdown",
      "metadata": {
        "id": "gI3ogP-3dTzN"
      },
      "source": [
        "Set up Spark on the Colab environment."
      ]
    },
    {
      "cell_type": "code",
      "execution_count": null,
      "metadata": {
        "colab": {
          "base_uri": "https://localhost:8080/"
        },
        "id": "u-WUhLICdFMA",
        "outputId": "307c4b99-6531-4292-ec99-3ad943087ea0"
      },
      "outputs": [
        {
          "name": "stdout",
          "output_type": "stream",
          "text": [
            "Requirement already satisfied: pyspark in /usr/local/lib/python3.7/dist-packages (3.2.0)\n",
            "Requirement already satisfied: py4j==0.10.9.2 in /usr/local/lib/python3.7/dist-packages (from pyspark) (0.10.9.2)\n",
            "openjdk-8-jdk-headless is already the newest version (8u312-b07-0ubuntu1~18.04).\n",
            "0 upgraded, 0 newly installed, 0 to remove and 37 not upgraded.\n"
          ]
        }
      ],
      "source": [
        "!pip install pyspark\n",
        "!pip install -U -q PyDrive\n",
        "!apt install openjdk-8-jdk-headless -qq"
      ]
    },
    {
      "cell_type": "code",
      "execution_count": null,
      "metadata": {
        "id": "3TsyX1S-dMw6"
      },
      "outputs": [],
      "source": [
        "import os\n",
        "os.environ[\"JAVA_HOME\"] = \"/usr/lib/jvm/java-8-openjdk-amd64\""
      ]
    },
    {
      "cell_type": "markdown",
      "metadata": {
        "id": "EGStRuuydfZs"
      },
      "source": [
        "Authenticate a Google Drive client to download the file we will be processing in our Spark job."
      ]
    },
    {
      "cell_type": "code",
      "execution_count": null,
      "metadata": {
        "id": "C3EwV_yDdlbN"
      },
      "outputs": [],
      "source": [
        "from pydrive.auth import GoogleAuth\n",
        "from pydrive.drive import GoogleDrive\n",
        "from google.colab import auth\n",
        "from oauth2client.client import GoogleCredentials\n",
        "\n",
        "# Authenticate and create the PyDrive client\n",
        "auth.authenticate_user()\n",
        "gauth = GoogleAuth()\n",
        "gauth.credentials = GoogleCredentials.get_application_default()\n",
        "drive = GoogleDrive(gauth)"
      ]
    },
    {
      "cell_type": "code",
      "execution_count": null,
      "metadata": {
        "id": "9NXDix23do3F"
      },
      "outputs": [],
      "source": [
        "from pyspark.sql import *\n",
        "from pyspark.sql.functions import *\n",
        "from pyspark import SparkContext\n",
        "import pandas as pd\n",
        "\n",
        "# create the Spark Session\n",
        "spark = SparkSession.builder.getOrCreate()\n",
        "\n",
        "# create the Spark Context\n",
        "sc = spark.sparkContext"
      ]
    },
    {
      "cell_type": "code",
      "execution_count": null,
      "metadata": {
        "colab": {
          "base_uri": "https://localhost:8080/",
          "height": 216
        },
        "id": "JuSytPmSeNxQ",
        "outputId": "7bb76775-629a-484d-bbb5-a4a86b2cb543"
      },
      "outputs": [
        {
          "data": {
            "text/html": [
              "\n",
              "            <div>\n",
              "                <p><b>SparkSession - in-memory</b></p>\n",
              "                \n",
              "        <div>\n",
              "            <p><b>SparkContext</b></p>\n",
              "\n",
              "            <p><a href=\"http://96efa1c24fc4:4040\">Spark UI</a></p>\n",
              "\n",
              "            <dl>\n",
              "              <dt>Version</dt>\n",
              "                <dd><code>v3.2.0</code></dd>\n",
              "              <dt>Master</dt>\n",
              "                <dd><code>local[*]</code></dd>\n",
              "              <dt>AppName</dt>\n",
              "                <dd><code>pyspark-shell</code></dd>\n",
              "            </dl>\n",
              "        </div>\n",
              "        \n",
              "            </div>\n",
              "        "
            ],
            "text/plain": [
              "<pyspark.sql.session.SparkSession at 0x7faa130786d0>"
            ]
          },
          "execution_count": 5,
          "metadata": {},
          "output_type": "execute_result"
        }
      ],
      "source": [
        "# check the current version and get the link of the web interface\n",
        "spark"
      ]
    },
    {
      "cell_type": "code",
      "execution_count": null,
      "metadata": {
        "colab": {
          "base_uri": "https://localhost:8080/"
        },
        "id": "MlddS7ndeVUZ",
        "outputId": "e63c1543-3bad-48a7-c73b-25c5b18d5303"
      },
      "outputs": [
        {
          "data": {
            "text/plain": [
              "['0\\t1,2,3,4,5,6,7,8,9,10,11,12,13,14,15,16,17,18,19,20,21,22,23,24,25,26,27,28,29,30,31,32,33,34,35,36,37,38,39,40,41,42,43,44,45,46,47,48,49,50,51,52,53,54,55,56,57,58,59,60,61,62,63,64,65,66,67,68,69,70,71,72,73,74,75,76,77,78,79,80,81,82,83,84,85,86,87,88,89,90,91,92,93,94',\n",
              " '1\\t0,5,20,135,2409,8715,8932,10623,12347,12846,13840,13845,14005,20075,21556,22939,23520,28193,29724,29791,29826,30691,31232,31435,32317,32489,34394,35589,35605,35606,35613,35633,35648,35678,38737,43447,44846,44887,49226,49985,623,629,4999,6156,13912,14248,15190,17636,19217,20074,27536,29481,29726,29767,30257,33060,34250,34280,34392,34406,34418,34420,34439,34450,34651,45054,49592',\n",
              " '2\\t0,117,135,1220,2755,12453,24539,24714,41456,45046,49927,6893,13795,16659,32828,41878',\n",
              " '3\\t0,12,41,55,1532,12636,13185,27552,38737',\n",
              " '4\\t0,8,14,15,18,27,72,80,15326,19068,19079,24596,42697,46126,74,77,33269,38792,38822']"
            ]
          },
          "execution_count": 6,
          "metadata": {},
          "output_type": "execute_result"
        }
      ],
      "source": [
        "data = sc.textFile('data/soc-LiveJournal1Adj.txt') # read in data\n",
        "data.take(5) # check the first 5 elements in the RDD."
      ]
    },
    {
      "cell_type": "code",
      "execution_count": null,
      "metadata": {
        "id": "ek-nWmT-hzvL"
      },
      "outputs": [],
      "source": [
        "# import itertools\n",
        "\n",
        "# def make_tuples(line): # gives error, needs cleaning\n",
        "\n",
        "#   user, friends = line.split('\\t')\n",
        "#   friends = friends.split(',')\n",
        "\n",
        "#   already_friends = [((user, friend), 0) for friend in friends]\n",
        "#   have_mutual_friends = [(pair, 1) for pair in itertools.permutations(friends, 2)]\n",
        "\n",
        "#   return already_friends + have_mutual_friends\n",
        "def make_tuples(line):\n",
        "  tokens = line.split('\\t')\n",
        "\n",
        "  if len(tokens) == 1 or tokens[0] == '':\n",
        "    return []\n",
        "\n",
        "  user = int(tokens[0])\n",
        "  friends = tokens[1].split(',')\n",
        "\n",
        "  already_friends = []\n",
        "  have_mutual_friends = []\n",
        "\n",
        "  for friend in friends:\n",
        "    if friend != '':\n",
        "      already_friends.append(((user, int(friend)), 0))\n",
        "\n",
        "  for i in range(0, len(friends) - 1):\n",
        "    for j in range(i + 1, len(friends)):\n",
        "      have_mutual_friends.append(((int(friends[i]), int(friends[j])), 1))\n",
        "      have_mutual_friends.append(((int(friends[j]), int(friends[i])), 1))\n",
        "\n",
        "  return already_friends + have_mutual_friends"
      ]
    },
    {
      "cell_type": "code",
      "execution_count": null,
      "metadata": {
        "id": "_XD32w39h8UH"
      },
      "outputs": [],
      "source": [
        "all_pairs = data.flatMap(lambda line: make_tuples(line))"
      ]
    },
    {
      "cell_type": "code",
      "execution_count": null,
      "metadata": {
        "colab": {
          "base_uri": "https://localhost:8080/"
        },
        "id": "3tdayqcuuUYz",
        "outputId": "0361c370-a8e8-4eb9-e15b-1ed4f92ca494"
      },
      "outputs": [
        {
          "data": {
            "text/plain": [
              "[((14049, 13993), 1),\n",
              " ((34304, 11384), 1),\n",
              " ((10097, 44081), 1),\n",
              " ((16861, 16984), 1),\n",
              " ((27484, 12943), 1)]"
            ]
          },
          "execution_count": 9,
          "metadata": {},
          "output_type": "execute_result"
        }
      ],
      "source": [
        "all_pairs.takeSample(False, 5) # random sample (withReplacement, num, seed=None)"
      ]
    },
    {
      "cell_type": "code",
      "execution_count": null,
      "metadata": {
        "id": "aGQQC4NnkRC9"
      },
      "outputs": [],
      "source": [
        "# a separate filter because \"cannot unpack non-iterable PipelinedRDD object\": already_friends, all_pairs = data.flatMap(lambda line: make_tuples(line))\n",
        "already_friends = all_pairs.filter(lambda pair: pair[1] == 0) "
      ]
    },
    {
      "cell_type": "code",
      "execution_count": null,
      "metadata": {
        "colab": {
          "base_uri": "https://localhost:8080/"
        },
        "id": "GK9jiwVmueiD",
        "outputId": "011959cf-4c9c-42ab-ef6c-900c111dc4ab"
      },
      "outputs": [
        {
          "data": {
            "text/plain": [
              "[((0, 1), 0), ((0, 2), 0), ((0, 3), 0), ((0, 4), 0), ((0, 5), 0)]"
            ]
          },
          "execution_count": 11,
          "metadata": {},
          "output_type": "execute_result"
        }
      ],
      "source": [
        "already_friends.take(5)"
      ]
    },
    {
      "cell_type": "code",
      "execution_count": null,
      "metadata": {
        "id": "v2tp7fnNkUjA"
      },
      "outputs": [],
      "source": [
        "# get non-friends ((A, B), 1) \n",
        "# reduce by key to ((A,  B),  n)\n",
        "# rearrange to (A, (B,n))\n",
        "# group and map values to (A, [(rec1, n1), (rec2, n2), ...])\n",
        "mutual_friends_pairs = all_pairs.subtractByKey(already_friends).\\\n",
        "                       reduceByKey(lambda a, b: a + b).\\\n",
        "                       map(lambda x: (x[0][0], (x[0][1], x[1]))).\\\n",
        "                       groupByKey().\\\n",
        "                       mapValues(list)"
      ]
    },
    {
      "cell_type": "code",
      "execution_count": null,
      "metadata": {
        "colab": {
          "background_save": true
        },
        "id": "TLhn-lO7vzs5",
        "outputId": "1af9da3e-c5ea-4a2c-dd32-7a0a7a47da31"
      },
      "outputs": [
        {
          "data": {
            "text/plain": [
              "[(35224,\n",
              "  [(32742, 1),\n",
              "   (32386, 1),\n",
              "   (37966, 1),\n",
              "   (7738, 1),\n",
              "   (38082, 1),\n",
              "   (35250, 1),\n",
              "   (4482, 1),\n",
              "   (35270, 1),\n",
              "   (35226, 1),\n",
              "   (35206, 1),\n",
              "   (35262, 2),\n",
              "   (9734, 1),\n",
              "   (32782, 2),\n",
              "   (35222, 1),\n",
              "   (4414, 1),\n",
              "   (12162, 1),\n",
              "   (32806, 1),\n",
              "   (35178, 1),\n",
              "   (35186, 7),\n",
              "   (30162, 1),\n",
              "   (32766, 1),\n",
              "   (7018, 1),\n",
              "   (32774, 1),\n",
              "   (35274, 4),\n",
              "   (35254, 1),\n",
              "   (20142, 1),\n",
              "   (42530, 1),\n",
              "   (41906, 1),\n",
              "   (32818, 1),\n",
              "   (35266, 3),\n",
              "   (35246, 1),\n",
              "   (35238, 1),\n",
              "   (4402, 1),\n",
              "   (35218, 8),\n",
              "   (3606, 1),\n",
              "   (40818, 1),\n",
              "   (35190, 1),\n",
              "   (9810, 1),\n",
              "   (35258, 1),\n",
              "   (37954, 2),\n",
              "   (35234, 5),\n",
              "   (46282, 1),\n",
              "   (8278, 1),\n",
              "   (32798, 1),\n",
              "   (32574, 1),\n",
              "   (32814, 1),\n",
              "   (23794, 1),\n",
              "   (49618, 1),\n",
              "   (39070, 2),\n",
              "   (6978, 1),\n",
              "   (35202, 3),\n",
              "   (36354, 2),\n",
              "   (35242, 1),\n",
              "   (35194, 1),\n",
              "   (35210, 3),\n",
              "   (32801, 1),\n",
              "   (35257, 1),\n",
              "   (4433, 1),\n",
              "   (16893, 1),\n",
              "   (32737, 1),\n",
              "   (4397, 1),\n",
              "   (5249, 1),\n",
              "   (35185, 1),\n",
              "   (35205, 1),\n",
              "   (35245, 3),\n",
              "   (33429, 1),\n",
              "   (37945, 2),\n",
              "   (38013, 1),\n",
              "   (49593, 1),\n",
              "   (35181, 2),\n",
              "   (41453, 2),\n",
              "   (2213, 1),\n",
              "   (4425, 2),\n",
              "   (39157, 1),\n",
              "   (32761, 2),\n",
              "   (26169, 1),\n",
              "   (35269, 1),\n",
              "   (35237, 2),\n",
              "   (18653, 1),\n",
              "   (32417, 1),\n",
              "   (32813, 1),\n",
              "   (35249, 1),\n",
              "   (35265, 2),\n",
              "   (35209, 5),\n",
              "   (15277, 1),\n",
              "   (35253, 5),\n",
              "   (2193, 1),\n",
              "   (28837, 1),\n",
              "   (35805, 1),\n",
              "   (35201, 8),\n",
              "   (42221, 1),\n",
              "   (35197, 2),\n",
              "   (32753, 1),\n",
              "   (32797, 1),\n",
              "   (35189, 2),\n",
              "   (35193, 1),\n",
              "   (2041, 2),\n",
              "   (30221, 1),\n",
              "   (12253, 2),\n",
              "   (35221, 4),\n",
              "   (7773, 1),\n",
              "   (18573, 1),\n",
              "   (32733, 1),\n",
              "   (38745, 1),\n",
              "   (35177, 1),\n",
              "   (35241, 11),\n",
              "   (32457, 1),\n",
              "   (973, 1),\n",
              "   (37965, 1),\n",
              "   (26176, 1),\n",
              "   (2744, 1),\n",
              "   (35188, 1),\n",
              "   (27772, 1),\n",
              "   (35264, 2),\n",
              "   (6976, 1),\n",
              "   (32728, 1),\n",
              "   (2240, 1),\n",
              "   (32780, 1),\n",
              "   (1384, 1),\n",
              "   (9664, 1),\n",
              "   (35672, 2),\n",
              "   (35240, 1),\n",
              "   (35180, 6),\n",
              "   (38000, 1),\n",
              "   (35268, 5),\n",
              "   (1036, 1),\n",
              "   (35204, 2),\n",
              "   (18864, 1),\n",
              "   (32412, 1),\n",
              "   (32748, 1),\n",
              "   (35256, 1),\n",
              "   (18312, 1),\n",
              "   (49584, 1),\n",
              "   (35244, 2),\n",
              "   (35252, 1),\n",
              "   (8136, 1),\n",
              "   (4408, 1),\n",
              "   (32776, 1),\n",
              "   (11156, 1),\n",
              "   (35232, 1),\n",
              "   (35220, 6),\n",
              "   (35200, 13),\n",
              "   (35248, 1),\n",
              "   (35192, 1),\n",
              "   (33208, 1),\n",
              "   (38032, 1),\n",
              "   (35008, 1),\n",
              "   (32440, 1),\n",
              "   (29692, 1),\n",
              "   (32356, 2),\n",
              "   (32784, 1),\n",
              "   (35212, 4),\n",
              "   (12636, 1),\n",
              "   (1412, 1),\n",
              "   (26148, 1),\n",
              "   (35216, 9),\n",
              "   (544, 1),\n",
              "   (38044, 1),\n",
              "   (32779, 2),\n",
              "   (17519, 1),\n",
              "   (35179, 1),\n",
              "   (23587, 1),\n",
              "   (35271, 1),\n",
              "   (35247, 1),\n",
              "   (35203, 1),\n",
              "   (33815, 1),\n",
              "   (32363, 1),\n",
              "   (32775, 1),\n",
              "   (32343, 1),\n",
              "   (35251, 2),\n",
              "   (44563, 1),\n",
              "   (35275, 1),\n",
              "   (35187, 3),\n",
              "   (35235, 3),\n",
              "   (17303, 1),\n",
              "   (35191, 8),\n",
              "   (2915, 1),\n",
              "   (4339, 1),\n",
              "   (40307, 1),\n",
              "   (32639, 1),\n",
              "   (35579, 2),\n",
              "   (42699, 1),\n",
              "   (35223, 1),\n",
              "   (18499, 1),\n",
              "   (4447, 2),\n",
              "   (2867, 1),\n",
              "   (37955, 2),\n",
              "   (35211, 9),\n",
              "   (35227, 2),\n",
              "   (29799, 2),\n",
              "   (4399, 1),\n",
              "   (35215, 1),\n",
              "   (26163, 1),\n",
              "   (32787, 1),\n",
              "   (4455, 2),\n",
              "   (29579, 1),\n",
              "   (35207, 2),\n",
              "   (32795, 1),\n",
              "   (4431, 1),\n",
              "   (22799, 1),\n",
              "   (48251, 1),\n",
              "   (35263, 1),\n",
              "   (7847, 1),\n",
              "   (35219, 5),\n",
              "   (25279, 1),\n",
              "   (27563, 1),\n",
              "   (35267, 1),\n",
              "   (4463, 1),\n",
              "   (35195, 1),\n",
              "   (27543, 1),\n",
              "   (35231, 2),\n",
              "   (41031, 1),\n",
              "   (32823, 1),\n",
              "   (5151, 1)])]"
            ]
          },
          "execution_count": null,
          "metadata": {},
          "output_type": "execute_result"
        }
      ],
      "source": [
        "mutual_friends_pairs.take(1)"
      ]
    },
    {
      "cell_type": "code",
      "execution_count": null,
      "metadata": {
        "colab": {
          "background_save": true
        },
        "id": "VPuP1udbmg_o"
      },
      "outputs": [],
      "source": [
        "def recommend_new_friends(user_recommends, K = 10): # get the non-friends with top K = 10 number of mutual friends\n",
        "  user, recommends = user_recommends\n",
        "\n",
        "  sorted_recommends = sorted(recommends, key = lambda user_n_mutual: (-user_n_mutual[1], user_n_mutual[0]))[:K]\n",
        "\n",
        "  result = []\n",
        "  for user, n_mutual in sorted_recommends:\n",
        "    result.append(user)\n",
        "\n",
        "  return user, result"
      ]
    },
    {
      "cell_type": "code",
      "execution_count": null,
      "metadata": {
        "colab": {
          "background_save": true
        },
        "id": "dtGB00R5mjEq"
      },
      "outputs": [],
      "source": [
        "result = mutual_friends_pairs.map(lambda user_recommends: recommend_new_friends(user_recommends)).\\\n",
        "         map(lambda user_recommendations: \"{}: {}\".format(user_recommendations[0], \",\".join(map(lambda x: str(x), user_recommendations[1])))).\\\n",
        "         collect()"
      ]
    },
    {
      "cell_type": "code",
      "execution_count": null,
      "metadata": {
        "colab": {
          "background_save": true
        },
        "id": "eSm73Xljmk1Z",
        "outputId": "8b7c2805-a21a-4fbf-9cb9-f1e143a0d636"
      },
      "outputs": [
        {
          "name": "stdout",
          "output_type": "stream",
          "text": [
            "9022: 317,353,4801,9016,9017,9018,9019,9020,9021,9022\n"
          ]
        }
      ],
      "source": [
        "IDs = ['924', '8941', '8942', '9019', '9020', '9021', '9022', '9990', '9992', '9993']\n",
        "\n",
        "for id in IDs:\n",
        "  for line in result:\n",
        "    user, recommendations = line.split(': ')\n",
        "    if user == id:\n",
        "      print(line)"
      ]
    },
    {
      "cell_type": "code",
      "execution_count": null,
      "metadata": {
        "colab": {
          "background_save": true
        },
        "id": "vn9j6oz_oX2L"
      },
      "outputs": [],
      "source": [
        "sc.stop()"
      ]
    }
  ],
  "metadata": {
    "colab": {
      "collapsed_sections": [],
      "name": "hw1_q1.ipynb",
      "provenance": [],
      "include_colab_link": true
    },
    "kernelspec": {
      "display_name": "Python 3",
      "name": "python3"
    },
    "language_info": {
      "name": "python"
    }
  },
  "nbformat": 4,
  "nbformat_minor": 0
}